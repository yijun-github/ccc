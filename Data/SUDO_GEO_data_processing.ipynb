{
 "cells": [
  {
   "cell_type": "markdown",
   "id": "0efe8818",
   "metadata": {},
   "source": [
    "COMP90024 Project 2 2023\n",
    "\n",
    "Contributor\n",
    "\n",
    "Aobo Li              1172339\n",
    "\n",
    "Pavith Samarakoon    1297058\n",
    "\n",
    "Zhihao Liang         1367102\n",
    "\n",
    "Jiqiang Chen         1171420\n",
    "\n",
    "Yijun Liu            1132416"
   ]
  },
  {
   "cell_type": "code",
   "execution_count": 1,
   "id": "85a3d04a",
   "metadata": {
    "scrolled": true
   },
   "outputs": [
    {
     "name": "stdout",
     "output_type": "stream",
     "text": [
      "Requirement already satisfied: geopandas in c:\\users\\pavit\\anaconda3\\lib\\site-packages (0.13.0)\n",
      "Requirement already satisfied: pandas>=1.1.0 in c:\\users\\pavit\\anaconda3\\lib\\site-packages (from geopandas) (1.4.4)\n",
      "Requirement already satisfied: packaging in c:\\users\\pavit\\anaconda3\\lib\\site-packages (from geopandas) (21.3)\n",
      "Requirement already satisfied: pyproj>=3.0.1 in c:\\users\\pavit\\anaconda3\\lib\\site-packages (from geopandas) (3.5.0)\n",
      "Requirement already satisfied: shapely>=1.7.1 in c:\\users\\pavit\\anaconda3\\lib\\site-packages (from geopandas) (2.0.1)\n",
      "Requirement already satisfied: fiona>=1.8.19 in c:\\users\\pavit\\anaconda3\\lib\\site-packages (from geopandas) (1.9.3)\n",
      "Requirement already satisfied: cligj>=0.5 in c:\\users\\pavit\\anaconda3\\lib\\site-packages (from fiona>=1.8.19->geopandas) (0.7.2)\n",
      "Requirement already satisfied: click~=8.0 in c:\\users\\pavit\\anaconda3\\lib\\site-packages (from fiona>=1.8.19->geopandas) (8.0.4)\n",
      "Requirement already satisfied: click-plugins>=1.0 in c:\\users\\pavit\\anaconda3\\lib\\site-packages (from fiona>=1.8.19->geopandas) (1.1.1)\n",
      "Requirement already satisfied: munch>=2.3.2 in c:\\users\\pavit\\anaconda3\\lib\\site-packages (from fiona>=1.8.19->geopandas) (2.5.0)\n",
      "Requirement already satisfied: certifi in c:\\users\\pavit\\anaconda3\\lib\\site-packages (from fiona>=1.8.19->geopandas) (2022.9.14)\n",
      "Requirement already satisfied: attrs>=19.2.0 in c:\\users\\pavit\\anaconda3\\lib\\site-packages (from fiona>=1.8.19->geopandas) (21.4.0)\n",
      "Requirement already satisfied: importlib-metadata in c:\\users\\pavit\\anaconda3\\lib\\site-packages (from fiona>=1.8.19->geopandas) (4.11.3)\n",
      "Requirement already satisfied: python-dateutil>=2.8.1 in c:\\users\\pavit\\anaconda3\\lib\\site-packages (from pandas>=1.1.0->geopandas) (2.8.2)\n",
      "Requirement already satisfied: numpy>=1.18.5 in c:\\users\\pavit\\anaconda3\\lib\\site-packages (from pandas>=1.1.0->geopandas) (1.21.5)\n",
      "Requirement already satisfied: pytz>=2020.1 in c:\\users\\pavit\\anaconda3\\lib\\site-packages (from pandas>=1.1.0->geopandas) (2022.1)\n",
      "Requirement already satisfied: pyparsing!=3.0.5,>=2.0.2 in c:\\users\\pavit\\anaconda3\\lib\\site-packages (from packaging->geopandas) (3.0.9)\n",
      "Requirement already satisfied: colorama in c:\\users\\pavit\\anaconda3\\lib\\site-packages (from click~=8.0->fiona>=1.8.19->geopandas) (0.4.5)\n",
      "Requirement already satisfied: six in c:\\users\\pavit\\anaconda3\\lib\\site-packages (from munch>=2.3.2->fiona>=1.8.19->geopandas) (1.16.0)\n",
      "Requirement already satisfied: zipp>=0.5 in c:\\users\\pavit\\anaconda3\\lib\\site-packages (from importlib-metadata->fiona>=1.8.19->geopandas) (3.8.0)\n"
     ]
    }
   ],
   "source": [
    "import sys\n",
    "!{sys.executable} -m pip install geopandas"
   ]
  },
  {
   "cell_type": "code",
   "execution_count": 2,
   "id": "d8a42184",
   "metadata": {},
   "outputs": [],
   "source": [
    "import pandas as pd\n",
    "import geopandas as gpd"
   ]
  },
  {
   "cell_type": "code",
   "execution_count": 3,
   "id": "ffc408be",
   "metadata": {},
   "outputs": [],
   "source": [
    "POLL_DATA_PATH = \"SUDO_data/pollDataCSV/aec_federal_election_tpp_by_polling_place_2019-8351572430875528240.csv\"\n",
    "EMPLOYMENT_INCOME_DATA_PATH = \"SUDO_data/employmentIncomeCSV/gi_employ_inc_suburb_2011-1455394262157248157.csv\"\n",
    "POSTCODE_GEO_PATH = \"geoJSON_boundaries/postcode/POA_2021_AUST_GDA2020_Small.json\"\n",
    "STATE_GEO_PATH = \"geoJSON_boundaries/states/STE_2021_AUST_GDA2020_Simplified.json\"\n",
    "SUBURB_GEO_PATH = \"geoJSON_boundaries/suburbs/SAL_2021_AUST_GDA94_Small.json\"\n",
    "\n",
    "# OUTPUT FILES\n",
    "STATE_OUT_PATH = \"geoJSON_data/state.json\"\n",
    "SUBURB_OUT_PATH = \"geoJSON_data/suburb.json\"\n",
    "POSTCODE_OUT_PATH = \"geoJSON_data/postcode.json\""
   ]
  },
  {
   "cell_type": "markdown",
   "id": "42f177fe",
   "metadata": {},
   "source": [
    "Read SUDO data files and geoJSON files:"
   ]
  },
  {
   "cell_type": "code",
   "execution_count": 4,
   "id": "508180ff",
   "metadata": {},
   "outputs": [
    {
     "ename": "FileNotFoundError",
     "evalue": "[Errno 2] No such file or directory: 'SUDO_data/pollDataCSV/aec_federal_election_tpp_by_polling_place_2019-8351572430875528240.csv'",
     "output_type": "error",
     "traceback": [
      "\u001b[1;31m---------------------------------------------------------------------------\u001b[0m",
      "\u001b[1;31mFileNotFoundError\u001b[0m                         Traceback (most recent call last)",
      "\u001b[1;32m~\\AppData\\Local\\Temp\\ipykernel_6284\\3391612891.py\u001b[0m in \u001b[0;36m<module>\u001b[1;34m\u001b[0m\n\u001b[1;32m----> 1\u001b[1;33m \u001b[1;32mwith\u001b[0m \u001b[0mopen\u001b[0m\u001b[1;33m(\u001b[0m\u001b[0mPOLL_DATA_PATH\u001b[0m\u001b[1;33m)\u001b[0m \u001b[1;32mas\u001b[0m \u001b[0mf\u001b[0m\u001b[1;33m:\u001b[0m\u001b[1;33m\u001b[0m\u001b[1;33m\u001b[0m\u001b[0m\n\u001b[0m\u001b[0;32m      2\u001b[0m     \u001b[0mpollData\u001b[0m \u001b[1;33m=\u001b[0m \u001b[0mpd\u001b[0m\u001b[1;33m.\u001b[0m\u001b[0mread_csv\u001b[0m\u001b[1;33m(\u001b[0m\u001b[0mf\u001b[0m\u001b[1;33m)\u001b[0m\u001b[1;33m\u001b[0m\u001b[1;33m\u001b[0m\u001b[0m\n\u001b[0;32m      3\u001b[0m \u001b[1;33m\u001b[0m\u001b[0m\n\u001b[0;32m      4\u001b[0m \u001b[1;32mwith\u001b[0m \u001b[0mopen\u001b[0m\u001b[1;33m(\u001b[0m\u001b[0mEMPLOYMENT_INCOME_DATA_PATH\u001b[0m\u001b[1;33m)\u001b[0m \u001b[1;32mas\u001b[0m \u001b[0mf\u001b[0m\u001b[1;33m:\u001b[0m\u001b[1;33m\u001b[0m\u001b[1;33m\u001b[0m\u001b[0m\n\u001b[0;32m      5\u001b[0m     \u001b[0mempIncData\u001b[0m \u001b[1;33m=\u001b[0m \u001b[0mpd\u001b[0m\u001b[1;33m.\u001b[0m\u001b[0mread_csv\u001b[0m\u001b[1;33m(\u001b[0m\u001b[0mf\u001b[0m\u001b[1;33m)\u001b[0m\u001b[1;33m\u001b[0m\u001b[1;33m\u001b[0m\u001b[0m\n",
      "\u001b[1;31mFileNotFoundError\u001b[0m: [Errno 2] No such file or directory: 'SUDO_data/pollDataCSV/aec_federal_election_tpp_by_polling_place_2019-8351572430875528240.csv'"
     ]
    }
   ],
   "source": [
    "with open(POLL_DATA_PATH) as f:\n",
    "    pollData = pd.read_csv(f)\n",
    "    \n",
    "with open(EMPLOYMENT_INCOME_DATA_PATH) as f:\n",
    "    empIncData = pd.read_csv(f)\n",
    "\n",
    "with open(POSTCODE_GEO_PATH) as f:\n",
    "    postGeo = gpd.read_file(f)\n",
    "    \n",
    "with open(STATE_GEO_PATH) as f:\n",
    "    stateGeo = gpd.read_file(f)\n",
    "\n",
    "with open(SUBURB_GEO_PATH) as f:\n",
    "    suburbGeo = gpd.read_file(f)"
   ]
  },
  {
   "cell_type": "markdown",
   "id": "2b1c8ce2",
   "metadata": {},
   "source": [
    "Set keys for locations:"
   ]
  },
  {
   "cell_type": "code",
   "execution_count": null,
   "id": "a8671145",
   "metadata": {},
   "outputs": [],
   "source": [
    "POST_KEY = 'POA_NAME21'\n",
    "STATE_KEY = 'STE_NAME21'\n",
    "SUBURB_KEY_EMP_INC = 'ssc_name'\n",
    "SUBURB_KEY_GEO = 'SAL_NAME21'"
   ]
  },
  {
   "cell_type": "markdown",
   "id": "54b4a51f",
   "metadata": {},
   "source": [
    "Fix column names:"
   ]
  },
  {
   "cell_type": "code",
   "execution_count": null,
   "id": "5eb24b39",
   "metadata": {},
   "outputs": [],
   "source": [
    "colnames = {name: name.strip() for name in pollData.columns}\n",
    "pollData.rename(columns=colnames, inplace=True)\n",
    "\n",
    "colnames = {name: name.strip() for name in empIncData.columns}\n",
    "empIncData.rename(columns=colnames, inplace=True)"
   ]
  },
  {
   "cell_type": "markdown",
   "id": "f5dafc4c",
   "metadata": {},
   "source": [
    "Rename columns:"
   ]
  },
  {
   "cell_type": "code",
   "execution_count": null,
   "id": "8cbce2e5",
   "metadata": {},
   "outputs": [],
   "source": [
    "colnames = {'tpp_australian_labor_party_votes': 'labor_party_votes',\n",
    "            'tpp_liberal_national_coalition_votes': 'liberal_national_coalition_votes'\n",
    "           }\n",
    "pollData.rename(columns=colnames, inplace=True)\n",
    "\n",
    "colnames = {\n",
    "    'emp_to_pop': 'employment%', 'cert': 'tafe%', 'female_par': 'female_participation', \n",
    "    'median11': 'median_income', 'male_less_': 'male_female_part_diff', \n",
    "    'male_part_': 'male_participation'\n",
    "}\n",
    "empIncData.rename(columns=colnames, inplace=True)"
   ]
  },
  {
   "cell_type": "markdown",
   "id": "9d2007b7",
   "metadata": {},
   "source": [
    "Fix missing values being assigned 0 (change to null):"
   ]
  },
  {
   "cell_type": "code",
   "execution_count": null,
   "id": "9d3410fa",
   "metadata": {},
   "outputs": [],
   "source": [
    "import numpy as np\n",
    "empIncData.replace(0, np.nan, inplace=True)"
   ]
  },
  {
   "cell_type": "markdown",
   "id": "755a9573",
   "metadata": {},
   "source": [
    "Convert SUDO dataframes to geo dataframes:"
   ]
  },
  {
   "cell_type": "code",
   "execution_count": null,
   "id": "3015949f",
   "metadata": {},
   "outputs": [],
   "source": [
    "poll_gdf = gpd.GeoDataFrame(pollData, geometry=gpd.points_from_xy(pollData.longitude, pollData.latitude))\n",
    "\n",
    "empInc_gdf = gpd.GeoDataFrame(empIncData)"
   ]
  },
  {
   "cell_type": "markdown",
   "id": "b769a080",
   "metadata": {},
   "source": [
    "Convert to matching CRS:"
   ]
  },
  {
   "cell_type": "code",
   "execution_count": null,
   "id": "c93f6626",
   "metadata": {},
   "outputs": [],
   "source": [
    "if poll_gdf.crs != stateGeo.crs:\n",
    "    poll_gdf.set_crs(crs='EPSG:4283', inplace=True)\n",
    "    poll_gdf.to_crs(crs=stateGeo.crs, inplace=True)"
   ]
  },
  {
   "cell_type": "markdown",
   "id": "6087123d",
   "metadata": {},
   "source": [
    "Join SUDO poll data with geo data:"
   ]
  },
  {
   "cell_type": "code",
   "execution_count": null,
   "id": "0625ee5e",
   "metadata": {},
   "outputs": [],
   "source": [
    "postPoll_sjoin = gpd.sjoin(poll_gdf, postGeo, predicate=\"within\")\n",
    "statePoll_sjoin = gpd.sjoin(poll_gdf, stateGeo, predicate=\"within\")\n",
    "suburbPoll_sjoin = gpd.sjoin(poll_gdf, suburbGeo, predicate=\"within\")"
   ]
  },
  {
   "cell_type": "markdown",
   "id": "50728f9a",
   "metadata": {},
   "source": [
    "Compute election statistics for areas:"
   ]
  },
  {
   "cell_type": "code",
   "execution_count": null,
   "id": "417c7dce",
   "metadata": {},
   "outputs": [],
   "source": [
    "postPoll = postPoll_sjoin.dissolve(by=POST_KEY, \n",
    "                                  aggfunc={\n",
    "                                      'total_formal_votes': 'sum',\n",
    "                                      'labor_party_votes': 'sum',\n",
    "                                      'liberal_national_coalition_votes': 'sum',\n",
    "                                  }).reset_index()\n",
    "postPoll = postGeo.merge(postPoll.drop('geometry', axis=1), on=POST_KEY, how='outer')\n",
    "postPoll.drop(['AUS_CODE21', 'AUS_NAME21', 'AREASQKM21', 'LOCI_URI21', 'SHAPE_Leng', 'SHAPE_Area'], axis=1, inplace=True)\n",
    "\n",
    "postPoll['labor%'] = postPoll.labor_party_votes/postPoll.total_formal_votes\n",
    "postPoll['liberal_national%'] = postPoll.liberal_national_coalition_votes/postPoll.total_formal_votes\n",
    "\n",
    "\n",
    "statePoll = statePoll_sjoin.dissolve(by=STATE_KEY,\n",
    "                            aggfunc={\n",
    "                                      'total_formal_votes': 'sum',\n",
    "                                      'labor_party_votes': 'sum',\n",
    "                                      'liberal_national_coalition_votes': 'sum',\n",
    "                                  }).reset_index()\n",
    "statePoll = stateGeo.merge(statePoll.drop('geometry', axis=1), on=STATE_KEY, how='outer')\n",
    "statePoll.drop(['CHG_FLAG21', 'CHG_LBL21', 'AUS_CODE21', 'AUS_NAME21', 'AREASQKM21', 'LOCI_URI21'], axis=1, inplace=True)\n",
    "\n",
    "statePoll['labor%'] = statePoll.labor_party_votes/statePoll.total_formal_votes\n",
    "statePoll['liberal_national%'] = statePoll.liberal_national_coalition_votes/statePoll.total_formal_votes\n",
    "\n",
    "suburbPoll = suburbPoll_sjoin.dissolve(by=SUBURB_KEY_GEO,\n",
    "                            aggfunc={\n",
    "                                      'total_formal_votes': 'sum',\n",
    "                                      'labor_party_votes': 'sum',\n",
    "                                      'liberal_national_coalition_votes': 'sum',\n",
    "                                  }).reset_index()\n",
    "suburbPoll = suburbGeo.merge(suburbPoll.drop('geometry', axis=1), on=SUBURB_KEY_GEO, how='outer')\n",
    "suburbPoll.drop(['AUS_CODE21', 'AUS_NAME21', 'AREASQKM21', 'LOCI_URI21'], axis=1, inplace=True)\n",
    "\n",
    "suburbPoll['labor%'] = suburbPoll.labor_party_votes/suburbPoll.total_formal_votes\n",
    "suburbPoll['liberal_national%'] = suburbPoll.liberal_national_coalition_votes/suburbPoll.total_formal_votes"
   ]
  },
  {
   "cell_type": "code",
   "execution_count": null,
   "id": "adc61c54",
   "metadata": {},
   "outputs": [],
   "source": [
    "import matplotlib.pyplot as plt\n",
    "fig, axes = plt.subplots(nrows=2, ncols=2)\n",
    "\n",
    "poll_gdf.plot(markersize=0.25, ax=axes[0,0])\n",
    "suburbPoll.plot('labor%', ax=axes[0,1])\n",
    "postPoll.plot('labor%', ax=axes[1,0])\n",
    "statePoll.plot('labor%', ax=axes[1,1])"
   ]
  },
  {
   "cell_type": "markdown",
   "id": "a7696371",
   "metadata": {},
   "source": [
    "Change suburb column name such that keys can be used for merge:"
   ]
  },
  {
   "cell_type": "code",
   "execution_count": null,
   "id": "9991539d",
   "metadata": {},
   "outputs": [],
   "source": [
    "empIncData.rename(columns={SUBURB_KEY_EMP_INC: SUBURB_KEY_GEO}, inplace=True)"
   ]
  },
  {
   "cell_type": "markdown",
   "id": "41651d84",
   "metadata": {},
   "source": [
    "Merge SUDO employment, income, and education data with suburb geoJSON and poll data:"
   ]
  },
  {
   "cell_type": "code",
   "execution_count": null,
   "id": "d74b15ed",
   "metadata": {},
   "outputs": [],
   "source": [
    "suburbData = suburbPoll.merge(empIncData, on=SUBURB_KEY_GEO, how='outer')\n",
    "suburbData = suburbData[suburbData['geometry'].notnull()] # Drop rows/suburbs without geometry"
   ]
  },
  {
   "cell_type": "code",
   "execution_count": null,
   "id": "672d65ac",
   "metadata": {},
   "outputs": [],
   "source": [
    "suburbData.plot('median_income')"
   ]
  },
  {
   "cell_type": "markdown",
   "id": "1b26a771",
   "metadata": {},
   "source": [
    "Write to geoJSON:"
   ]
  },
  {
   "cell_type": "code",
   "execution_count": null,
   "id": "55d308d4",
   "metadata": {},
   "outputs": [],
   "source": [
    "statePoll.to_file(STATE_OUT_PATH, driver=\"GeoJSON\")\n",
    "postPoll.to_file(POSTCODE_OUT_PATH, driver=\"GeoJSON\")\n",
    "suburbData.to_file(SUBURB_OUT_PATH, driver=\"GeoJSON\")"
   ]
  }
 ],
 "metadata": {
  "kernelspec": {
   "display_name": "Python 3 (ipykernel)",
   "language": "python",
   "name": "python3"
  },
  "language_info": {
   "codemirror_mode": {
    "name": "ipython",
    "version": 3
   },
   "file_extension": ".py",
   "mimetype": "text/x-python",
   "name": "python",
   "nbconvert_exporter": "python",
   "pygments_lexer": "ipython3",
   "version": "3.9.13"
  }
 },
 "nbformat": 4,
 "nbformat_minor": 5
}
