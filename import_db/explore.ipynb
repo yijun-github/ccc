{
 "cells": [
  {
   "cell_type": "code",
   "execution_count": null,
   "metadata": {},
   "outputs": [],
   "source": [
    " \n",
    "# mpiexec -np 4 python main.py -country ./language.json -data ./tinyTwitter.json\n",
    "import couchdb\n",
    "from couchdb.design import ViewDefinition\n",
    "\n",
    "def getConnection():\n",
    "\n",
    "    # Connect to the CouchDB instance running on localhost with username and password\n",
    "    username = 'admin'\n",
    "    password = r'1dTY1!PWM2'\n",
    "    ip = '45.113.234.176'\n",
    "    url = 'http://{}:{}@{}:5984/'.format(username, password, ip)\n",
    "    return couchdb.Server(url)\n",
    " "
   ]
  },
  {
   "cell_type": "code",
   "execution_count": 79,
   "metadata": {},
   "outputs": [],
   "source": [
    "\n",
    "from time import sleep\n",
    "\n",
    "\n",
    "def delete_view(db_name,design_doc_name,view_name):\n",
    "    try:\n",
    "        couch=getConnection()\n",
    "        db=couch[db_name]\n",
    "        doc_id = '_design/' + design_doc_name\n",
    "        doc = db.get(doc_id)\n",
    "        del doc['views'][view_name]\n",
    "        db.save(doc)\n",
    "        sleep(0.1)\n",
    "        \n",
    "    except Exception as e:\n",
    "        pass\n",
    "    print('deleted','view:',design_doc_name+'/'+view_name,'in db:',db_name,)\n",
    "        \n",
    "def create_view(db_name, design_doc,view_name, map_func,reduce_fun=None):\n",
    "    couch = getConnection()\n",
    "    db=couch[db_name]\n",
    "    options = {}\n",
    "   # Create a new view definition object\n",
    "    delete_view(db_name,design_doc,view_name)\n",
    "    sleep(2)\n",
    "    if reduce_fun!=None:\n",
    "        options = {'reduce':reduce_fun}\n",
    "    view_def = ViewDefinition(design_doc, view_name, map_func,options=options,reduce_fun=reduce_fun)\n",
    "    view_def.sync(db)\n",
    "    sleep(0.1)\n",
    "    print('Created or updated','view: ',design_doc+'/'+view_name,'in db: ',db_name,)\n",
    "\n",
    "def create_bulk_view(db_names, design_doc_name, view_name, map_fun,reduce_fun=None):\n",
    "    for db_name in db_names:\n",
    "        couch = getConnection()\n",
    "        db = couch[db_name]\n",
    "        create_view(db_name, design_doc_name, view_name, map_fun,reduce_fun=reduce_fun)\n",
    "         \n",
    "def delete_bulk_view(db_names, design_doc_name, view_name):\n",
    "    for db_name in db_names:\n",
    "        couch = getConnection()\n",
    "        db = couch[db_name]\n",
    "        delete_view(db_name, design_doc_name, view_name)\n",
    "          \n",
    "\n",
    " \n",
    "db_names = [  'huge-twitter-2022-2', 'huge-twitter-2022-3',\n",
    "            'huge-twitter-2022-4', 'huge-twitter-2022-5', 'huge-twitter-2022-6',\n",
    "            'huge-twitter-2022-7', 'huge-twitter-2022-8',  ]"
   ]
  },
  {
   "cell_type": "code",
   "execution_count": null,
   "metadata": {},
   "outputs": [],
   "source": []
  },
  {
   "cell_type": "code",
   "execution_count": null,
   "metadata": {},
   "outputs": [],
   "source": [
    "# a view to  tweets about war\n",
    "couch = getConnection()\n",
    "\n",
    "\n",
    "view_name = 'war_related_tweets2'\n",
    "map_function = '''function (doc) {\n",
    "    if (doc.RUwar === true)\n",
    "                    emit(doc._id, doc);\n",
    "                    }'''\n",
    "db = couch['mastodon_data']\n",
    "create_view('mastodon_data',  view_name, map_function,)\n",
    " \n",
    "# query the view with a specified key\n",
    "view_results = db.view(view_name+'/'+view_name )\n",
    "for view_result in view_results:\n",
    "    print(view_result.value['content'])\n",
    " "
   ]
  },
  {
   "cell_type": "code",
   "execution_count": null,
   "metadata": {},
   "outputs": [],
   "source": [
    "# a view to  tweets about language\n",
    "couch = getConnection()\n",
    "design_doc_name='war_related_tweets'\n",
    "view_name = 'count_language'\n",
    "map_fun = '''function(doc) {\n",
    "    if (doc.language) {\n",
    "        emit(doc.language, 1);\n",
    "    }\n",
    "}'''\n",
    "\n",
    "reduce_fun = '''function(keys, values, rereduce) {\n",
    "        return sum(values);\n",
    "    }'''\n",
    "db = couch['mastodon_data']\n",
    "create_view('mastodon_data', design_doc_name, view_name, map_fun,reduce_fun=reduce_fun)\n",
    " \n"
   ]
  },
  {
   "cell_type": "code",
   "execution_count": null,
   "metadata": {},
   "outputs": [],
   "source": [
    "# query the view with a specified key\n",
    "couch=getConnection()\n",
    "db=couch['mastodon_data']\n",
    "view_results = db.view(design_doc_name+'/'+view_name ,group=True)\n",
    "for view_result in view_results:\n",
    "    print(view_result.key,view_result.value) \n",
    "# delete_view('mastodon_data',design_doc_name,view_name)"
   ]
  },
  {
   "cell_type": "code",
   "execution_count": null,
   "metadata": {},
   "outputs": [],
   "source": [
    " \n",
    "# a view to  tweets about language\n",
    "couch = getConnection()\n",
    "design_doc_name='war_related_tweets'\n",
    "view_name = 'tweets_about_war'\n",
    "db_name='huge-twitter'\n",
    "map_fun = '''function (doc) {\n",
    "    let tokens = doc.tokens.split('|');\n",
    "    tokens = tokens.map((token) => token.toLowerCase());\n",
    "    if (\"russia\" in tokens || \"war\" in tokens || \"ukraine\" in tokens || \"nato\" in tokens || \"putin\" in tokens) {\n",
    "        if (doc.lang === \"en\") {\n",
    "            emit(null, doc);\n",
    "        }\n",
    "    }\n",
    "}'''\n",
    " \n",
    "reduce_fun=None\n",
    "\n",
    "create_view(db_name, design_doc_name, view_name, map_fun, )\n",
    " \n"
   ]
  },
  {
   "cell_type": "code",
   "execution_count": 76,
   "metadata": {},
   "outputs": [
    {
     "name": "stdout",
     "output_type": "stream",
     "text": [
      "deleted db:  huge-twitter-2022-2 view:  war_related_tweets/tweets_about_war\n",
      "Created or updated db:  huge-twitter-2022-2 view:  war_related_tweets/tweets_about_war\n"
     ]
    }
   ],
   "source": [
    " \n",
    "# a views to  tweets about war\n",
    " \n",
    "design_doc_name='war_related_tweets'\n",
    "view_name = 'tweets_about_war'\n",
    " \n",
    "map_fun = '''function (doc) {\n",
    "    let tokens = doc.tokens.split('|');\n",
    "    tokens = tokens.map((token) => token.toLowerCase());\n",
    "    if (\"russia\" in tokens || \"war\" in tokens || \"ukraine\" in tokens || \"nato\" in tokens || \"putin\" in tokens) {\n",
    "        if (doc.lang === \"en\") {\n",
    "            emit(null, doc);\n",
    "        }\n",
    "    }\n",
    "}'''\n",
    "reduce_fun=None\n",
    "# create_bulk_view(db_names, design_doc_name, view_name, map_fun, )\n",
    "# delete_bulk_view(db_names,design_doc_name,view_name)\n",
    "create_view('huge-twitter-2022-2', design_doc_name, view_name, map_fun, )"
   ]
  },
  {
   "cell_type": "code",
   "execution_count": 90,
   "metadata": {},
   "outputs": [
    {
     "name": "stdout",
     "output_type": "stream",
     "text": [
      "deleted view: war_related_tweets/tweets_about_war in db: huge-twitter\n",
      "Created or updated view:  war_related_tweets/tweets_about_war in db:  huge-twitter\n"
     ]
    }
   ],
   "source": [
    " \n",
    "# a views to  tweets about war\n",
    " \n",
    "design_doc_name='war_related_tweets'\n",
    "view_name = 'tweets_about_war'\n",
    " \n",
    "map_fun = '''\n",
    "\n",
    "function (doc) {\n",
    "    let tokens = doc.tokens.split('|');\n",
    "    tokens = tokens.map((token) => token.toLowerCase());\n",
    "    const relatedWords = [\"russia\", \"ukraine\", \"nato\", \"putin\", \"ukr\", \"nazi\"];\n",
    "    const isRelated = tokens.some((token) => relatedWords.includes(token));\n",
    "    if (tokens.length>0 && isRelated) {\n",
    "        \n",
    "        emit(null, doc)\n",
    "    }\n",
    "}\n",
    "  \n",
    "  '''\n",
    "reduce_fun=None\n",
    "# create_bulk_view(db_names, design_doc_name, view_name, map_fun, )\n",
    "# delete_bulk_view(db_names,design_doc_name,view_name)\n",
    "create_view('huge-twitter', design_doc_name, view_name, map_fun, )"
   ]
  },
  {
   "cell_type": "code",
   "execution_count": 85,
   "metadata": {},
   "outputs": [
    {
     "name": "stdout",
     "output_type": "stream",
     "text": [
      "None putin|please|leave|well|alone|the|Ukraine\n",
      "None Big|talk|coming|from|the|lady|that|prosecuting|war|heroes|for|whistleblowing|corruption|enacted|her|friends|amp|family\n",
      "None proving|his|imperialist|credentials|today|beating|Stop|the|War|Coalition|heads|genuflect|talk|about|flogging|dead|horse|Next|time|have|anti|war|movement|inUK|prioritise|supporting|those|who|move|from|protest|toNonviolentResistance\n",
      "None Nah|think|inUK|led|the|anti|war|movement|into|dead|end|cattle|drive|marches|through|empty|streets|They|failed|support|military|amp|civilians|before|the|courts|for|resisting|the|War|Failed|block|hwood|armer|stooge\n",
      "None People|power|political|orNGO|milk|amp|manipulate|anti|war|phenomenon|when|arises|haven|had|movement|since|the|1980|armer|over|friend|year|detention|shifty|fuck|presently|marching|lock|step|war\n",
      "None Seems|some|confusion|usually|the|defendant|prisoner|amp|beaten|when|there|mobilisation|for|war|know|fit|when|see|one|amp|has|paid|the|heaviest|price|theUK|for|opposition|Starmer|was|ever|anti|war|jumped|ship|see|JohnKerry\n",
      "None But|again|the|actual|War|Under|Shattered|Skies|story|there|was|showcasing|GingerBrave|and|friends|And|would|bet|that|happens|before|the|gang|even|got|ch11|and|story|mode|considering|Pitaya|quotes\n",
      "None must|recommend|Rebels|amp|Redcoats|Saga|America|Revolutionary|War|Historical|fiction|its|absolute|best|Book|The|Tory|Book|The|Traitor|Book|The|Turncoat|Book|Man|War|And|you|into|audiobooks|books|amp|are|AMAZING\n",
      "None Lol|took|women|war|They|were|strong\n",
      "None funny|really|because|the|Jerry|can|was|symbol|Germany|industrious|nature|during|the|war|bet|you|have|not|too|distant|relatives|that|fought|during|that|war|You|should|point|them|and|their|fight|for|your|ability|bitch|and|moan|over|something|trivial\n",
      "None don|know|two|animals|every|kind|repopulate|the|world|after|war|crime|struck|realistic\n",
      "None And|yet|Fitch|adid|maz|BMW|Spe|msu|UNI|Apple|rit|and|Fila|all|use|slave|labour|2022|and|one|bats|eyelid|too|worried|about|1861|flag|used|civil|war\n",
      "None Yeah|summoners|war|pocke|skullgirls|clash|clans|and|northgard\n",
      "None Half|belongs|Kaliningrad|Karelia|half|doesn|have|regular|army|Crimea|Russia\n",
      "None Robert|Hanson|became|banker|Rothschild|amp|Sons|where|worked|initially|London|and|later|its|subsidiaries|Hong|Kong|Chile|and|Spain|His|father|Lord|Hanson|had|Imperial|Tobacco|later|Imperial|Brands|factories|Russia\n",
      "None Please|scrap|the|500|million|revamp|well|half|BILLION|dollars|for|museum|that|already|impressive|Plays|into|ttons|pro|war|jingoist|attitudes\n",
      "None This|the|type|guy|ASIO|obviously|onto|far|right|numpty|GRUB|looking|try|and|get|civil|war|going\n",
      "None And|the|flip|side|why|did|Tara|Reade|who|had|been|praising|Biden|after|the|alleged|assault|who|professed|admiration|for|Putin|Trump|being|more|lenient|Putin|for|whatever|reason|motive|there|choose|after|the|fact|Biden|was|elected|the|democrats|choice\n",
      "None today|Catholic|conservatism|the|and|the|Anglo|speaking|world|think|not|because|the|teaching|heresy|but|the|fact|comes|from|the|impoverished|global|south|where|debates|about|culture|war|issues|are|too|much|luxury|when|people|are|starving\n",
      "None certain|Putin|has|done|good|things|never|really|looked|Why|not|Nick|Aren|you|curious|about|the|world|you|live\n",
      "None wrote|constitution|and|its|troops|are|still|German|soil|years|after|world|war|isn|sovereign|nation|vassal|state|only|gets|what|the|allows|them\n",
      "None posit|that|one|sided|culture|war|Given|that|one|side|chooses|their|belief|and|the|other|side|didn|get|choice\n",
      "None yeh|civis|can|get|their|head|around|war|and|can|fun|but|all|crime\n",
      "None Bloody|awesome|episode|can|play|Podcast|tug|war|with\n",
      "None eyes|refuse|see|anything|other|than|Putin|riding|bull\n",
      "None Putin|making|that|bear|his|bitch|Ultimate|permabull\n",
      "None mean|like|Russia|China|and|Nth|Korea\n",
      "None Jokes|picked|again|there|were|two|problems|fog|war|was|being|weird|turns|out|this|was|pre|existing|buttons|become|stuck|some|state|but|this|only|happens|after|HOT|reload|Good|enough|sending\n",
      "None Throwing|psalm|this|info|war|feel|much|needed|Contend|lord|with|those|who|contend|with|Fight|against|those|who|fight|Take|hold|buckler|and|shield|and|rise|help|Draw|also|the|spear|and|the|battle|axe|meet|those|who|pursue\n",
      "None You|don|have|believe|but|all|owe|the|one|million|dead|Iraqis|Iraq|War|was|based|pack|lies|WMDs|investigate|FULLY|any|accusation|against|any|country|has|chosen|our|enemies|The|real|Chinese|Muslims|China\n",
      "None Didn|NATO|bomb|Libya|without|approval|Iraq|invasion|was|another|incident|without|approval|Afghanistan|also|You|are|just|making|shit|you|along|but|like|foreign|policy\n",
      "None this|Princess|Alexandra|and|her|sister|the|Empress|Russia\n",
      "None Yes|please|there|amp|stay|there|maybe|raine|heard|they|might|get|into|war|ussia|Maybe|that|look|interesting|amp|beautiful|you|too\n",
      "None Spear|tips|the|flag|poles|means|are|martial|law|have|been|since|2004|and|means|government|war|with\n",
      "None But|guess|really|that|more|Republican|voters|think|Communists|than|Left|wing|people|now|are|generally|Anti|Communist|and|Anti|but|don|know|lot|about|Ukr|Russia|dynamic\n",
      "None Honestly|don|see|any|neo|Nazi|support|for|Russia|separatists|Donbas|the|West\n",
      "None You|guys|voted|career|conman|then|career|war|criminal|with|Alzheimer|Good|luck|with|that|minimum|wage|and|mass|shootings\n",
      "None Yes|did|know|always|tune|instruments|down|Interestingly|was|who|pioneered|the|research|they|put|lot|money|into|mind|control|wonder|snapped|them|after|the|war|now|most|people|actually|think|the|some|sort|government|operation\n",
      "None History|doesn|matter|you|won|100s|flags|before|the|war|don|care|you|teams|been|shizenhausen|for|the|last|five|years|you|got|cop\n",
      "None Maybe|you|could|get|the|two|them|room|together|and|make|them|cry|grandmother|really|old|and|has|DVA|gold|card|and|she|feels|she|lives|luxury|Just|cause|her|husband|went|war|and|was|scared|for|life|Torturing|the|three|together|would|probably|make|your|day\n",
      "None more|accurate|Grey|post|war|thing\n",
      "None Absolutely|right|many|unexplored|scenarios|got|cheated|out|three|seasons|just|the|characters|fill|potentials|were|coming|until|fruition|Any|chance|could|see|time|war|part|scenario|with|Discovery|luv|see|these|characters|just|one|more|time\n",
      "None war|cry|was|transparency|and|accountability|have|never|been|delivered|either\n",
      "None Albo|has|support|his|bill|eventually|that|the|Murdoch|press|don|make|the|next|election|culture|war|Labor|hates|religion|They|are|literally|trying|neuter|this|bill|much|they|can\n",
      "None Nobody|wanted|change|that|But|are|all|aware|your|relentless|war|against|Christianity|which|you|despise\n"
     ]
    }
   ],
   "source": [
    "# query the view with a specified key\n",
    "couch=getConnection()\n",
    "db=couch[db_name]\n",
    "view_results = db.view(design_doc_name+'/'+view_name ,)\n",
    "for view_result in view_results:\n",
    "    print(view_result.key,view_result.value['tokens']) \n",
    "# delete_view('mastodon_data',design_doc_name,view_name)"
   ]
  },
  {
   "cell_type": "code",
   "execution_count": 97,
   "metadata": {},
   "outputs": [
    {
     "name": "stdout",
     "output_type": "stream",
     "text": [
      "deleted view: war_related_tweets/token_frequency in db: huge-twitter-2022-8\n",
      "Created or updated view:  war_related_tweets/token_frequency in db:  huge-twitter-2022-8\n"
     ]
    }
   ],
   "source": [
    "# word frequency\n",
    "\n",
    " \n",
    "# a views to  tweets about war\n",
    " \n",
    "design_doc_name='war_related_tweets'\n",
    "view_name = 'token_frequency'\n",
    " \n",
    "map_fun = '''\n",
    "\n",
    "function  (doc) {\n",
    "    let tokens = doc.tokens.split('|');\n",
    "    tokens = tokens.map((token) => token.toLowerCase());\n",
    "    const relatedWords = [\"russia\", \"ukraine\", \"nato\", \"putin\", \"ukr\",\n",
    "        \"nazi\", \"crimea\", \"russo-ukrainian\", \"bakhmut\", \"wagner\", \"belgorod\",\n",
    "        \"zhytomyr\", \"kherson\", \"dnipro\", \"nato\", \"donetsk\", \"zelensky\"];\n",
    "    const isRelated = tokens.some((token) => relatedWords.includes(token));\n",
    "    if (isRelated) {\n",
    "        for (let token of tokens) {\n",
    "            emit(token, 1);\n",
    "        }\n",
    "    }\n",
    "\n",
    "}\n",
    "  \n",
    "  '''\n",
    "reduce_fun='_count'\n",
    "# create_bulk_view(db_names, design_doc_name, view_name, map_fun, )\n",
    "# delete_bulk_view(db_names,design_doc_name,view_name)\n",
    "create_view('huge-twitter-2022-8', design_doc_name, view_name, map_fun, reduce_fun=reduce_fun)"
   ]
  },
  {
   "cell_type": "code",
   "execution_count": 98,
   "metadata": {},
   "outputs": [
    {
     "name": "stderr",
     "output_type": "stream",
     "text": [
      "[nltk_data] Downloading package stopwords to\n",
      "[nltk_data]     C:\\Users\\zhihao\\AppData\\Roaming\\nltk_data...\n",
      "[nltk_data]   Package stopwords is already up-to-date!\n"
     ]
    },
    {
     "ename": "ResourceNotFound",
     "evalue": "('not_found', 'missing_named_view')",
     "output_type": "error",
     "traceback": [
      "\u001b[1;31m---------------------------------------------------------------------------\u001b[0m",
      "\u001b[1;31mResourceNotFound\u001b[0m                          Traceback (most recent call last)",
      "Cell \u001b[1;32mIn[98], line 14\u001b[0m\n\u001b[0;32m     11\u001b[0m db\u001b[39m=\u001b[39mcouch[db_name]\n\u001b[0;32m     13\u001b[0m view_results \u001b[39m=\u001b[39m db\u001b[39m.\u001b[39mview(design_doc_name\u001b[39m+\u001b[39m\u001b[39m'\u001b[39m\u001b[39m/\u001b[39m\u001b[39m'\u001b[39m\u001b[39m+\u001b[39mview_name ,group\u001b[39m=\u001b[39m\u001b[39mTrue\u001b[39;00m)\n\u001b[1;32m---> 14\u001b[0m filtered_view_results \u001b[39m=\u001b[39m [view_result \u001b[39mfor\u001b[39;00m view_result \u001b[39min\u001b[39;00m view_results \u001b[39mif\u001b[39;00m view_result\u001b[39m.\u001b[39mkey \u001b[39mnot\u001b[39;00m \u001b[39min\u001b[39;00m stop_words]\n\u001b[0;32m     15\u001b[0m sorted_view_results \u001b[39m=\u001b[39m \u001b[39msorted\u001b[39m(filtered_view_results, key\u001b[39m=\u001b[39m\u001b[39mlambda\u001b[39;00m x: x\u001b[39m.\u001b[39mvalue, reverse\u001b[39m=\u001b[39m\u001b[39mTrue\u001b[39;00m)\n\u001b[0;32m     17\u001b[0m \u001b[39mfor\u001b[39;00m view_result \u001b[39min\u001b[39;00m sorted_view_results:\n",
      "File \u001b[1;32mc:\\Users\\zhihao\\scoop\\apps\\miniconda3\\current\\envs\\ccc\\lib\\site-packages\\couchdb\\client.py:1358\u001b[0m, in \u001b[0;36mViewResults.__iter__\u001b[1;34m(self)\u001b[0m\n\u001b[0;32m   1357\u001b[0m \u001b[39mdef\u001b[39;00m \u001b[39m__iter__\u001b[39m(\u001b[39mself\u001b[39m):\n\u001b[1;32m-> 1358\u001b[0m     \u001b[39mreturn\u001b[39;00m \u001b[39miter\u001b[39m(\u001b[39mself\u001b[39;49m\u001b[39m.\u001b[39;49mrows)\n",
      "File \u001b[1;32mc:\\Users\\zhihao\\scoop\\apps\\miniconda3\\current\\envs\\ccc\\lib\\site-packages\\couchdb\\client.py:1378\u001b[0m, in \u001b[0;36mViewResults.rows\u001b[1;34m(self)\u001b[0m\n\u001b[0;32m   1373\u001b[0m \u001b[39m\"\"\"The list of rows returned by the view.\u001b[39;00m\n\u001b[0;32m   1374\u001b[0m \n\u001b[0;32m   1375\u001b[0m \u001b[39m:rtype: `list`\u001b[39;00m\n\u001b[0;32m   1376\u001b[0m \u001b[39m\"\"\"\u001b[39;00m\n\u001b[0;32m   1377\u001b[0m \u001b[39mif\u001b[39;00m \u001b[39mself\u001b[39m\u001b[39m.\u001b[39m_rows \u001b[39mis\u001b[39;00m \u001b[39mNone\u001b[39;00m:\n\u001b[1;32m-> 1378\u001b[0m     \u001b[39mself\u001b[39;49m\u001b[39m.\u001b[39;49m_fetch()\n\u001b[0;32m   1379\u001b[0m \u001b[39mreturn\u001b[39;00m \u001b[39mself\u001b[39m\u001b[39m.\u001b[39m_rows\n",
      "File \u001b[1;32mc:\\Users\\zhihao\\scoop\\apps\\miniconda3\\current\\envs\\ccc\\lib\\site-packages\\couchdb\\client.py:1364\u001b[0m, in \u001b[0;36mViewResults._fetch\u001b[1;34m(self)\u001b[0m\n\u001b[0;32m   1363\u001b[0m \u001b[39mdef\u001b[39;00m \u001b[39m_fetch\u001b[39m(\u001b[39mself\u001b[39m):\n\u001b[1;32m-> 1364\u001b[0m     data \u001b[39m=\u001b[39m \u001b[39mself\u001b[39;49m\u001b[39m.\u001b[39;49mview\u001b[39m.\u001b[39;49m_exec(\u001b[39mself\u001b[39;49m\u001b[39m.\u001b[39;49moptions)\n\u001b[0;32m   1365\u001b[0m     wrapper \u001b[39m=\u001b[39m \u001b[39mself\u001b[39m\u001b[39m.\u001b[39mview\u001b[39m.\u001b[39mwrapper \u001b[39mor\u001b[39;00m Row\n\u001b[0;32m   1366\u001b[0m     \u001b[39mself\u001b[39m\u001b[39m.\u001b[39m_rows \u001b[39m=\u001b[39m [wrapper(row) \u001b[39mfor\u001b[39;00m row \u001b[39min\u001b[39;00m data[\u001b[39m'\u001b[39m\u001b[39mrows\u001b[39m\u001b[39m'\u001b[39m]]\n",
      "File \u001b[1;32mc:\\Users\\zhihao\\scoop\\apps\\miniconda3\\current\\envs\\ccc\\lib\\site-packages\\couchdb\\client.py:1230\u001b[0m, in \u001b[0;36mPermanentView._exec\u001b[1;34m(self, options)\u001b[0m\n\u001b[0;32m   1229\u001b[0m \u001b[39mdef\u001b[39;00m \u001b[39m_exec\u001b[39m(\u001b[39mself\u001b[39m, options):\n\u001b[1;32m-> 1230\u001b[0m     _, _, data \u001b[39m=\u001b[39m _call_viewlike(\u001b[39mself\u001b[39;49m\u001b[39m.\u001b[39;49mresource, options)\n\u001b[0;32m   1231\u001b[0m     \u001b[39mreturn\u001b[39;00m data\n",
      "File \u001b[1;32mc:\\Users\\zhihao\\scoop\\apps\\miniconda3\\current\\envs\\ccc\\lib\\site-packages\\couchdb\\client.py:1289\u001b[0m, in \u001b[0;36m_call_viewlike\u001b[1;34m(resource, options)\u001b[0m\n\u001b[0;32m   1287\u001b[0m     \u001b[39mreturn\u001b[39;00m resource\u001b[39m.\u001b[39mpost_json(body\u001b[39m=\u001b[39mkeys, \u001b[39m*\u001b[39m\u001b[39m*\u001b[39m_encode_view_options(options))\n\u001b[0;32m   1288\u001b[0m \u001b[39melse\u001b[39;00m:\n\u001b[1;32m-> 1289\u001b[0m     \u001b[39mreturn\u001b[39;00m resource\u001b[39m.\u001b[39mget_json(\u001b[39m*\u001b[39m\u001b[39m*\u001b[39m_encode_view_options(options))\n",
      "File \u001b[1;32mc:\\Users\\zhihao\\scoop\\apps\\miniconda3\\current\\envs\\ccc\\lib\\site-packages\\couchdb\\http.py:570\u001b[0m, in \u001b[0;36mResource.get_json\u001b[1;34m(self, path, headers, **params)\u001b[0m\n\u001b[0;32m    569\u001b[0m \u001b[39mdef\u001b[39;00m \u001b[39mget_json\u001b[39m(\u001b[39mself\u001b[39m, path\u001b[39m=\u001b[39m\u001b[39mNone\u001b[39;00m, headers\u001b[39m=\u001b[39m\u001b[39mNone\u001b[39;00m, \u001b[39m*\u001b[39m\u001b[39m*\u001b[39mparams):\n\u001b[1;32m--> 570\u001b[0m     \u001b[39mreturn\u001b[39;00m \u001b[39mself\u001b[39m\u001b[39m.\u001b[39m_request_json(\u001b[39m'\u001b[39m\u001b[39mGET\u001b[39m\u001b[39m'\u001b[39m, path, headers\u001b[39m=\u001b[39mheaders, \u001b[39m*\u001b[39m\u001b[39m*\u001b[39mparams)\n",
      "File \u001b[1;32mc:\\Users\\zhihao\\scoop\\apps\\miniconda3\\current\\envs\\ccc\\lib\\site-packages\\couchdb\\http.py:595\u001b[0m, in \u001b[0;36mResource._request_json\u001b[1;34m(self, method, path, body, headers, **params)\u001b[0m\n\u001b[0;32m    594\u001b[0m \u001b[39mdef\u001b[39;00m \u001b[39m_request_json\u001b[39m(\u001b[39mself\u001b[39m, method, path\u001b[39m=\u001b[39m\u001b[39mNone\u001b[39;00m, body\u001b[39m=\u001b[39m\u001b[39mNone\u001b[39;00m, headers\u001b[39m=\u001b[39m\u001b[39mNone\u001b[39;00m, \u001b[39m*\u001b[39m\u001b[39m*\u001b[39mparams):\n\u001b[1;32m--> 595\u001b[0m     status, headers, data \u001b[39m=\u001b[39m \u001b[39mself\u001b[39m\u001b[39m.\u001b[39m_request(method, path, body\u001b[39m=\u001b[39mbody,\n\u001b[0;32m    596\u001b[0m                                           headers\u001b[39m=\u001b[39mheaders, \u001b[39m*\u001b[39m\u001b[39m*\u001b[39mparams)\n\u001b[0;32m    597\u001b[0m     \u001b[39mif\u001b[39;00m \u001b[39m'\u001b[39m\u001b[39mapplication/json\u001b[39m\u001b[39m'\u001b[39m \u001b[39min\u001b[39;00m headers\u001b[39m.\u001b[39mget(\u001b[39m'\u001b[39m\u001b[39mcontent-type\u001b[39m\u001b[39m'\u001b[39m, \u001b[39m'\u001b[39m\u001b[39m'\u001b[39m):\n\u001b[0;32m    598\u001b[0m         data \u001b[39m=\u001b[39m json\u001b[39m.\u001b[39mdecode(data\u001b[39m.\u001b[39mread()\u001b[39m.\u001b[39mdecode(\u001b[39m'\u001b[39m\u001b[39mutf-8\u001b[39m\u001b[39m'\u001b[39m))\n",
      "File \u001b[1;32mc:\\Users\\zhihao\\scoop\\apps\\miniconda3\\current\\envs\\ccc\\lib\\site-packages\\couchdb\\http.py:590\u001b[0m, in \u001b[0;36mResource._request\u001b[1;34m(self, method, path, body, headers, **params)\u001b[0m\n\u001b[0;32m    588\u001b[0m \u001b[39melse\u001b[39;00m:\n\u001b[0;32m    589\u001b[0m     url \u001b[39m=\u001b[39m urljoin(\u001b[39mself\u001b[39m\u001b[39m.\u001b[39murl, \u001b[39m*\u001b[39m\u001b[39m*\u001b[39mparams)\n\u001b[1;32m--> 590\u001b[0m \u001b[39mreturn\u001b[39;00m \u001b[39mself\u001b[39;49m\u001b[39m.\u001b[39;49msession\u001b[39m.\u001b[39;49mrequest(method, url, body\u001b[39m=\u001b[39;49mbody,\n\u001b[0;32m    591\u001b[0m                             headers\u001b[39m=\u001b[39;49mall_headers,\n\u001b[0;32m    592\u001b[0m                             credentials\u001b[39m=\u001b[39;49m\u001b[39mself\u001b[39;49m\u001b[39m.\u001b[39;49mcredentials)\n",
      "File \u001b[1;32mc:\\Users\\zhihao\\scoop\\apps\\miniconda3\\current\\envs\\ccc\\lib\\site-packages\\couchdb\\http.py:423\u001b[0m, in \u001b[0;36mSession.request\u001b[1;34m(self, method, url, body, headers, credentials, num_redirects)\u001b[0m\n\u001b[0;32m    421\u001b[0m     \u001b[39mraise\u001b[39;00m Forbidden(error)\n\u001b[0;32m    422\u001b[0m \u001b[39melif\u001b[39;00m status \u001b[39m==\u001b[39m \u001b[39m404\u001b[39m:\n\u001b[1;32m--> 423\u001b[0m     \u001b[39mraise\u001b[39;00m ResourceNotFound(error)\n\u001b[0;32m    424\u001b[0m \u001b[39melif\u001b[39;00m status \u001b[39m==\u001b[39m \u001b[39m409\u001b[39m:\n\u001b[0;32m    425\u001b[0m     \u001b[39mraise\u001b[39;00m ResourceConflict(error)\n",
      "\u001b[1;31mResourceNotFound\u001b[0m: ('not_found', 'missing_named_view')"
     ]
    }
   ],
   "source": [
    "# query the view with a specified key\n",
    "import nltk\n",
    "from nltk.corpus import stopwords\n",
    "\n",
    "# Download the set of stop words\n",
    "nltk.download('stopwords')\n",
    "\n",
    "# Get the set of English stop words\n",
    "stop_words = set(stopwords.words('english'))\n",
    "couch=getConnection()\n",
    "db=couch[db_name]\n",
    "\n",
    "view_results = db.view(design_doc_name+'/'+view_name ,group=True)\n",
    "filtered_view_results = [view_result for view_result in view_results if view_result.key not in stop_words]\n",
    "sorted_view_results = sorted(filtered_view_results, key=lambda x: x.value, reverse=True)\n",
    "\n",
    "for view_result in sorted_view_results:\n",
    "    print(view_result.key, view_result.value) \n",
    "# delete_view('mastodon_data',design_doc_name,view_name)"
   ]
  }
 ],
 "metadata": {
  "kernelspec": {
   "display_name": "ccc",
   "language": "python",
   "name": "python3"
  },
  "language_info": {
   "codemirror_mode": {
    "name": "ipython",
    "version": 3
   },
   "file_extension": ".py",
   "mimetype": "text/x-python",
   "name": "python",
   "nbconvert_exporter": "python",
   "pygments_lexer": "ipython3",
   "version": "3.10.9"
  },
  "orig_nbformat": 4
 },
 "nbformat": 4,
 "nbformat_minor": 2
}
